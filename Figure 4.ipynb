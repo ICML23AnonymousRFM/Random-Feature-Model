{
 "cells": [
  {
   "cell_type": "code",
   "execution_count": 1,
   "metadata": {},
   "outputs": [],
   "source": [
    "\n",
    "#import libraries\n",
    "\n",
    "import tensorflow as tf\n",
    "import numpy as np\n",
    "import matplotlib.pyplot as plt\n",
    "from keras import initializers\n",
    "from keras.utils.generic_utils import get_custom_objects\n",
    "\n",
    "import pandas as pd"
   ]
  },
  {
   "cell_type": "code",
   "execution_count": 4,
   "metadata": {},
   "outputs": [
    {
     "name": "stdout",
     "output_type": "stream",
     "text": [
      "0\n"
     ]
    },
    {
     "name": "stderr",
     "output_type": "stream",
     "text": [
      "<ipython-input-4-b57161a23ecc>:69: VisibleDeprecationWarning: Creating an ndarray from ragged nested sequences (which is a list-or-tuple of lists-or-tuples-or ndarrays with different lengths or shapes) is deprecated. If you meant to do this, you must specify 'dtype=object' when creating the ndarray\n",
      "  Rges.append(np.array(R1))\n"
     ]
    },
    {
     "name": "stdout",
     "output_type": "stream",
     "text": [
      "1\n",
      "2\n",
      "3\n",
      "4\n",
      "5\n",
      "6\n",
      "7\n",
      "8\n",
      "9\n",
      "10\n",
      "11\n",
      "12\n",
      "13\n",
      "14\n",
      "15\n",
      "16\n",
      "17\n",
      "18\n",
      "19\n",
      "20\n",
      "21\n",
      "22\n",
      "23\n",
      "24\n",
      "25\n",
      "26\n",
      "27\n",
      "28\n",
      "29\n",
      "30\n",
      "31\n",
      "32\n",
      "33\n",
      "34\n",
      "35\n",
      "36\n",
      "37\n",
      "38\n",
      "39\n",
      "40\n",
      "41\n",
      "42\n",
      "43\n",
      "44\n",
      "45\n",
      "46\n",
      "47\n",
      "48\n",
      "49\n",
      "50\n",
      "51\n",
      "52\n",
      "53\n",
      "54\n",
      "55\n",
      "56\n",
      "57\n",
      "58\n",
      "59\n",
      "60\n",
      "61\n",
      "62\n",
      "63\n",
      "64\n",
      "65\n",
      "66\n",
      "67\n",
      "68\n",
      "69\n",
      "70\n",
      "71\n",
      "72\n",
      "73\n",
      "74\n",
      "75\n",
      "76\n",
      "77\n",
      "78\n",
      "79\n",
      "80\n",
      "81\n",
      "82\n",
      "83\n",
      "84\n",
      "85\n",
      "86\n",
      "87\n",
      "88\n",
      "89\n",
      "90\n",
      "91\n",
      "92\n",
      "93\n",
      "94\n",
      "95\n",
      "96\n",
      "97\n",
      "98\n",
      "99\n"
     ]
    }
   ],
   "source": [
    "val2_1=[]\n",
    "Rges=[]\n",
    "\n",
    "#here we just show the code for N=10\n",
    "#the code for N>10 is used in the same way, just use needed K, l1 and N\n",
    "l1=np.array([10,15,20,25,30,35,40,45,50,60,70,80,90,100,150,200,250,350,500,750,1000])\n",
    "\n",
    "\n",
    "for i in range(100):\n",
    "    val1=[]\n",
    "    print(i)\n",
    "    R1=[]\n",
    "    for K in l1:\n",
    "    \n",
    "        N=l1[0]\n",
    "        M=1\n",
    "        \n",
    "        # define matrices to evaluate Equation 13 of the paper\n",
    "        \n",
    "        kernel_initializer=initializers.RandomNormal(stddev=1.,mean=0)\n",
    "        s=kernel_initializer((K,N)).numpy()\n",
    "        for i in range(len(s)):\n",
    "    \n",
    "            s[i]=s[i]/np.linalg.norm(s[i])*np.sqrt(N)\n",
    "    \n",
    "        kernel_initializer=initializers.RandomNormal(stddev=1.,mean=0)\n",
    "        t=kernel_initializer((M,N)).numpy()\n",
    "        for n in range(M):\n",
    "    \n",
    "            t[n]=t[n]/np.linalg.norm(t[n])*np.sqrt(N)\n",
    "\n",
    "        Q=[]\n",
    "        for i in range(K):\n",
    "            for j in range(K):\n",
    "                if i==j:\n",
    "                    Q.append(1)\n",
    "                else:\n",
    "        \n",
    "                    Q.append(np.arcsin(np.matmul(s[i],s[j])/(2*N)))\n",
    "            \n",
    "        Q=np.array(Q).reshape(K,K)\n",
    "    \n",
    "        R=[]\n",
    "        for i in range(K):\n",
    "            for n in range(M):\n",
    "            \n",
    "                R.append(np.arcsin(np.matmul(s[i],t[n])/(2*N)))\n",
    "        R=np.array(R)\n",
    "        R1.append(R)\n",
    "        \n",
    "\n",
    "    \n",
    "        z2=[]\n",
    "        for i in range(K):\n",
    "            z2.append(np.pi/6-1)\n",
    "        I2=np.diag(z2,k=0)\n",
    "    \n",
    "    \n",
    "        S=Q+I2\n",
    "        A=np.linalg.inv(S)  \n",
    "\n",
    "        c=np.matmul(A,R)\n",
    "    \n",
    "    \n",
    "        val1.append(np.matmul(c.T,R))\n",
    "    \n",
    "    \n",
    "    \n",
    "    val2_1.append(np.array(val1))\n",
    "    Rges.append(np.array(R1))\n",
    "val2_1=np.array(val2_1)\n",
    "eg=(np.array(np.pi/6-np.array(val2_1))/(np.pi))\n",
    "std1=np.std(np.array(eg),axis=0)\n",
    "mean1=np.mean(np.array(eg),axis=0)\n"
   ]
  },
  {
   "cell_type": "code",
   "execution_count": null,
   "metadata": {},
   "outputs": [],
   "source": []
  },
  {
   "cell_type": "code",
   "execution_count": 12,
   "metadata": {},
   "outputs": [],
   "source": [
    "d1=(np.array(np.pi/6-np.array(val2_6))/(np.pi))\n",
    "e1=(np.array(l1))"
   ]
  },
  {
   "cell_type": "code",
   "execution_count": 24,
   "metadata": {},
   "outputs": [],
   "source": [
    "#define plateau given by Equation 19 of the paper\n",
    "\n",
    "eg=[]\n",
    "for i in range(len(mean1)):\n",
    "    eg.append(0.0075)"
   ]
  },
  {
   "cell_type": "code",
   "execution_count": 91,
   "metadata": {},
   "outputs": [],
   "source": [
    "#dfextra=pd.DataFrame({\"mean\": mean1,\n",
    "             #         \"std\": std1,\n",
    "              #        \"K\": l1})\n"
   ]
  },
  {
   "cell_type": "code",
   "execution_count": null,
   "metadata": {},
   "outputs": [],
   "source": []
  },
  {
   "cell_type": "code",
   "execution_count": 92,
   "metadata": {},
   "outputs": [],
   "source": [
    "#dfextra.to_csv(\"extra_values_different_ini_num_100.csv\",sep=\";\",header=None)"
   ]
  },
  {
   "cell_type": "code",
   "execution_count": 65,
   "metadata": {},
   "outputs": [],
   "source": [
    "#save as csv\n",
    "df={\"mean\": np.array([mean1,mean3,mean4,mean5,mean6]),\n",
    "   \"std\": np.array([std1,std3,std4,std5,std6]),\n",
    "    \"K\": np.array([l1,l3,l4,l5,l6])}\n"
   ]
  },
  {
   "cell_type": "code",
   "execution_count": 66,
   "metadata": {},
   "outputs": [],
   "source": [
    "dfmean=pd.DataFrame(df[\"mean\"])\n",
    "dfstd=pd.DataFrame(df[\"std\"])\n",
    "dfK=pd.DataFrame(df[\"K\"])"
   ]
  },
  {
   "cell_type": "code",
   "execution_count": 67,
   "metadata": {},
   "outputs": [],
   "source": [
    "# save different runs\n",
    "\n",
    "#dfmean.to_csv(\"mean_values_different_ini_num.csv\",sep=\";\",header=None)\n",
    "#dfstd.to_csv(\"std_values_different_ini_num.csv\",sep=\";\",header=None)\n",
    "#dfK.to_csv(\"K_values_different_ini_num.csv\",sep=\";\",header=None)"
   ]
  },
  {
   "cell_type": "code",
   "execution_count": 10,
   "metadata": {},
   "outputs": [],
   "source": [
    "# upload results from previous runs\n",
    "\n",
    "dfmean=pd.read_csv(\"mean_values_different_ini_num.csv\",sep=\";\",header=None)\n",
    "dfstd=pd.read_csv(\"std_values_different_ini_num.csv\",sep=\";\",header=None)\n",
    "dfK=pd.read_csv(\"K_values_different_ini_num.csv\",sep=\";\",header=None)"
   ]
  },
  {
   "cell_type": "code",
   "execution_count": 84,
   "metadata": {},
   "outputs": [
    {
     "data": {
      "image/png": "[encoded data removed]",
      "text/plain": [
       "<Figure size 576x360 with 1 Axes>"
      ]
     },
     "metadata": {
      "needs_background": "light"
     },
     "output_type": "display_data"
    }
   ],
   "source": [
    "fig=plt.figure(figsize=(8,5))\n",
    "plt.xlabel(r\"$K/N$\",size=18)\n",
    "plt.ylabel(r\"$\\epsilon_g^*$\",size=22)\n",
    "plt.yscale(\"log\")\n",
    "plt.xscale(\"log\")\n",
    "\n",
    "plt.errorbar(np.array(l1)/l1[0],mean1,std1,linewidth=2,fmt='o',markersize=8,elinewidth=3,color=\"b\")\n",
    "plt.plot(np.array(l1)/l1[0],mean1,linewidth=2,alpha=0.4,color=\"b\",label='_nolegend_')\n",
    "\n",
    "plt.errorbar(np.array(l3)/l3[0],dfmean.values[1][1:],dfstd.values[1][1:],linewidth=3,fmt='o',markersize=8,color=\"c\")\n",
    "plt.plot(np.array(l3)/l3[0],dfmean.values[1][1:],linewidth=2,alpha=0.4,label='_nolegend_',color=\"c\")\n",
    "\n",
    "plt.errorbar(np.array(l4)/l4[0],dfmean.values[2][1:],dfstd.values[2][1:],linewidth=3,fmt='o',markersize=8,color=\"r\")\n",
    "plt.plot(np.array(l4)/l4[0],dfmean.values[2][1:],linewidth=2,alpha=0.4,label='_nolegend_',color=\"r\",zorder=-8)\n",
    "\n",
    "plt.errorbar(np.array(l5)/l5[0],dfmean.values[3][1:],dfstd.values[3][1:],linewidth=3,fmt='o',markersize=8,color=\"g\")\n",
    "plt.plot(np.array(l5)/l5[0],dfmean.values[3][1:],linewidth=2,alpha=0.4,label='_nolegend_',color=\"g\",zorder=-8)\n",
    "\n",
    "plt.errorbar(np.array(l6)/l6[0],dfmean.values[4][1:],dfstd.values[4][1:],linewidth=3,fmt='o',markersize=8,color=\"y\")\n",
    "plt.plot(np.array(l6)/l6[0],dfmean.values[4][1:],linewidth=2,alpha=0.4,label='_nolegend_',color=\"y\",zorder=-8)\n",
    "\n",
    "plt.errorbar(np.array(l6)/l6[0],eg,linewidth=3,linestyle=\"--\",color=\"black\",zorder=-5)\n",
    "\n",
    "plt.xticks(fontsize=16)\n",
    "plt.yticks(fontsize=16)\n",
    "plt.legend([r\"$N=10$\",r\"$N=20$\",\"$N=40$\",r\"$N=80$\",r\"$N=160$\",\"linear plateau\"],fontsize=16,ncol=2,columnspacing=0.8,\n",
    "           markerscale=0.5,loc=\"lower left\")\n",
    "\n",
    "#plt.savefig(\"eps_von_K_N_M1_matrix_ini_10_differentN_loglog4.pdf\",bbox_inches=\"tight\")\n",
    "plt.show();"
   ]
  },
  {
   "cell_type": "code",
   "execution_count": null,
   "metadata": {},
   "outputs": [],
   "source": []
  }
 ],
 "metadata": {
  "kernelspec": {
   "display_name": "Python 3",
   "language": "python",
   "name": "python3"
  },
  "language_info": {
   "codemirror_mode": {
    "name": "ipython",
    "version": 3
   },
   "file_extension": ".py",
   "mimetype": "text/x-python",
   "name": "python",
   "nbconvert_exporter": "python",
   "pygments_lexer": "ipython3",
   "version": "3.8.5"
  }
 },
 "nbformat": 4,
 "nbformat_minor": 4
}
